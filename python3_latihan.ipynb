{
  "nbformat": 4,
  "nbformat_minor": 0,
  "metadata": {
    "colab": {
      "provenance": []
    },
    "kernelspec": {
      "name": "python3",
      "display_name": "Python 3"
    },
    "language_info": {
      "name": "python"
    }
  },
  "cells": [
    {
      "cell_type": "code",
      "execution_count": 43,
      "metadata": {
        "id": "kUGaaKmeOzg-"
      },
      "outputs": [],
      "source": [
        "class Mobil:\n",
        "  jumlah_mobil = 0\n",
        "  def __init__(self, merk = None, warna = None, harga=None, tahun=None):\n",
        "    self.merk = merk\n",
        "    self.warna = warna\n",
        "    self.harga = harga\n",
        "    self.tahun = tahun\n",
        "    Mobil.jumlah_mobil += 1\n",
        "\n",
        "  ## Instance Method\n",
        "  def info(self):\n",
        "    return f\"{self.merk} berwarna {self.warna}, dengan harga {self.harga}\"\n",
        "\n",
        "  def cek_usia_mobil(self):\n",
        "    if 2024 - self.tahun > 5:\n",
        "      return \"Mobil tua\"\n",
        "    else:\n",
        "      return \"Mobil baru\"\n",
        "\n",
        "  ## Class Method\n",
        "  @classmethod\n",
        "  def get_jumlah_mobil(cls):\n",
        "    kali2 = cls.jumlah_mobil * 2\n",
        "    return kali2\n"
      ]
    },
    {
      "cell_type": "code",
      "source": [
        "mobil1 = Mobil(\"Toyota\",\"Hitam\")\n",
        "mobil2 = Mobil(\"Honda\",\"Putih\",\"100Jt\")\n",
        "\n",
        "print(mobil1.info())\n",
        "print(mobil2.info())\n"
      ],
      "metadata": {
        "colab": {
          "base_uri": "https://localhost:8080/"
        },
        "id": "4eM_iJVAPdW9",
        "outputId": "016b0eaa-b6f1-4ef4-ab69-bdf46610eb4a"
      },
      "execution_count": 44,
      "outputs": [
        {
          "output_type": "stream",
          "name": "stdout",
          "text": [
            "Toyota berwarna Hitam, dengan harga None\n",
            "Honda berwarna Putih, dengan harga 100Jt\n"
          ]
        }
      ]
    },
    {
      "cell_type": "code",
      "source": [
        "class Hewan:\n",
        "  def __init__(self,nama,rass):\n",
        "    self.nama = nama\n",
        "    self.rass = rass\n",
        "\n",
        "  def bersuara(self):\n",
        "    return \"Bunyi umum hewan\"\n",
        "\n",
        "  def info(self):\n",
        "    return f\"Nama hewan : {self.nama}, rass : {self.rass}\"\n",
        "\n",
        "class Kucing(Hewan):\n",
        "  def __init__(self, nama, rass, warna):\n",
        "    super().__init__(nama,rass)\n",
        "    self.warna = warna\n",
        "\n",
        "class Kambing(Hewan):\n",
        "  def __init__(self, nama, rass, makanan):\n",
        "    super().__init__(nama,rass)\n",
        "    self.makanan = makanan\n",
        "\n",
        "\n",
        "kucing = Kucing(\"Kitty\",\"Persian\",\"Putih\")\n",
        "#anjing = Anjing(\"Dogy\")\n",
        "\n",
        "##Ambil atribute dari kelas induk\n",
        "print(\"Kucing saya warnanya adalah : \", kucing.warna)\n",
        "print(\"Kucing info :\", kucing.info())\n",
        "#print(anjing.nama)\n",
        "print(kucing.bersuara())\n"
      ],
      "metadata": {
        "colab": {
          "base_uri": "https://localhost:8080/"
        },
        "id": "kD0G5lk9YIih",
        "outputId": "52f6d561-1531-49d5-dc7f-deaa876353ee"
      },
      "execution_count": 38,
      "outputs": [
        {
          "output_type": "stream",
          "name": "stdout",
          "text": [
            "Kucing saya warnanya adalah :  Putih\n",
            "Kucing info : Nama hewan : Kitty, rass : Persian\n",
            "Bunyi umum hewan\n"
          ]
        }
      ]
    },
    {
      "cell_type": "code",
      "source": [],
      "metadata": {
        "id": "LsXBj8ZQdDwY"
      },
      "execution_count": null,
      "outputs": []
    },
    {
      "cell_type": "code",
      "source": [
        "# Kelas Induk\n",
        "class Hewan:\n",
        "    def __init__(self, nama, alamat):\n",
        "        self.nama = nama\n",
        "        self.alamat = alamat\n",
        "\n",
        "    def bersuara(self):\n",
        "        return \"Bunyi umum hewan.\"\n",
        "\n",
        "# Kelas Turunan\n",
        "class Kucing(Hewan):\n",
        "    def bersuara(self):\n",
        "        return \"Meow!\"\n",
        "\n",
        "class Anjing(Hewan):\n",
        "    def bersuara(self):\n",
        "        return \"Woof!\"\n",
        "\n",
        "# Membuat objek dari kelas turunan\n",
        "kucing = Kucing(\"Kitty\",\"jakarta\")\n",
        "#anjing = Anjing(\"Buddy\")\n",
        "\n",
        "# Memanggil metode dari kelas induk\n",
        "print(kucing.nama)  # Output: Kitty\n",
        "print(anjing.nama)  # Output: Buddy\n",
        "\n",
        "# Memanggil metode dari kelas turunan\n",
        "print(kucing.bersuara())  # Output: Meow!\n",
        "print(anjing.bersuara())  # Output: Woof!"
      ],
      "metadata": {
        "colab": {
          "base_uri": "https://localhost:8080/"
        },
        "id": "ugawhm0dbblo",
        "outputId": "ed475e38-26b4-4ed3-c3e2-f77611cbecad"
      },
      "execution_count": 40,
      "outputs": [
        {
          "output_type": "stream",
          "name": "stdout",
          "text": [
            "Kitty\n",
            "Dogy\n",
            "Meow!\n",
            "Woof!!\n"
          ]
        }
      ]
    },
    {
      "cell_type": "code",
      "source": [],
      "metadata": {
        "id": "B4QisC9Rfjf5"
      },
      "execution_count": null,
      "outputs": []
    },
    {
      "cell_type": "code",
      "source": [
        "class Kalkulator:\n",
        "  def jumlah(self,a=None,b=None,c=None):\n",
        "    if a is not None and b is not None and c is not None:\n",
        "      return a + b + c\n",
        "    elif a is not None and b is not None:\n",
        "      return a + b\n",
        "    elif a is not None:\n",
        "      return a\n",
        "    else:\n",
        "      return 0"
      ],
      "metadata": {
        "id": "GBEZa6-hPL4J"
      },
      "execution_count": 41,
      "outputs": []
    },
    {
      "cell_type": "code",
      "source": [
        "kalkulator = Kalkulator()\n",
        "\n",
        "hasil1 = kalkulator.jumlah(1)\n",
        "hasil2 = kalkulator.jumlah(1,2)\n",
        "hasil3 = kalkulator.jumlah(1,2,3)\n",
        "\n",
        "print(hasil1)\n",
        "print(hasil2)\n",
        "print(hasil3)"
      ],
      "metadata": {
        "colab": {
          "base_uri": "https://localhost:8080/"
        },
        "id": "a5671LrsdmLs",
        "outputId": "33ef9e6d-a454-4d48-b795-692f51126971"
      },
      "execution_count": 42,
      "outputs": [
        {
          "output_type": "stream",
          "name": "stdout",
          "text": [
            "1\n",
            "3\n",
            "6\n"
          ]
        }
      ]
    },
    {
      "cell_type": "code",
      "source": [
        "#Tanpa OOP\n",
        "\n",
        "nama_mahasiswa = \"John Doe\"\n",
        "nim_mahasiswa = \"12345\"\n",
        "nilai_tugas = 85\n",
        "nilai_ujian = 90\n",
        "\n",
        "nama_mahasiswa = \"John Kim\"\n",
        "nim_mahasiswa = \"12346\"\n",
        "nilai_tugas = 85\n",
        "nilai_ujian = 90\n",
        "\n",
        "\n",
        "\n",
        "def hitung_nilai_akhir(nilai_tugas, nilai_ujian):\n",
        "  return 0.4 * nilai_tugas + 0.6 * nilai_ujian\n",
        "\n",
        "def cetak_nilai_mahasiswa(nama, nim, nilai_akhir):\n",
        "  print(f\"Nama:{nama}\")\n",
        "  print(f\"Nim:{nim}\")\n",
        "  print(f\"Nilai Akhir:{nilai_akhir}\")\n",
        "\n",
        "nilai_akhir_mahasiswa = hitung_nilai_akhir(nilai_tugas, nilai_ujian)\n",
        "cetak_nilai_mahasiswa (nama_mahasiswa,nim_mahasiswa,nilai_akhir_mahasiswa)"
      ],
      "metadata": {
        "colab": {
          "base_uri": "https://localhost:8080/"
        },
        "id": "BdLqrCFifk4j",
        "outputId": "07ea2e46-914c-4900-a585-eb8d7b32cf75"
      },
      "execution_count": 49,
      "outputs": [
        {
          "output_type": "stream",
          "name": "stdout",
          "text": [
            "Nama:John Kim\n",
            "Nim:12346\n",
            "Nilai Akhir:88.0\n"
          ]
        }
      ]
    },
    {
      "cell_type": "code",
      "source": [
        "## Dengan OOP\n",
        "class Mahasiswa:\n",
        "  def __init__(self,nama, nim, nilai_tugas, nilai_ujian):\n",
        "    self.nama=nama\n",
        "    self.nim=nim\n",
        "    self.nilai_tugas=nilai_tugas\n",
        "    self.nilai_ujian=nilai_ujian\n",
        "\n",
        "  def hitung_nilai_akhir(self):\n",
        "    return 0.4 * self.nilai_tugas + 0.6 * self.nilai_ujian\n",
        "\n",
        "  def cetak_info_mahasiswa(self):\n",
        "    print(f\"Nama: { self.nama}\")\n",
        "    print(f\"NIM: { self.nim}\")\n",
        "    print(f\"Nilai Akhir : { self.hitung_nilai_akhir()}\")\n"
      ],
      "metadata": {
        "id": "6gvZuXXrgtuw"
      },
      "execution_count": 46,
      "outputs": []
    },
    {
      "cell_type": "code",
      "source": [
        "mahasiswa1 = Mahasiswa(\"John Doe\",\"123456\", 85,90)\n",
        "mahasiswa2 = Mahasiswa(\"John Kim\",\"123457\", 86,80)\n",
        "mahasiswa3 = Mahasiswa(\"John Un\",\"123458\", 80,70)\n",
        "mahasiswa4 = Mahasiswa(\"John Pak\",\"123459\", 85,95)"
      ],
      "metadata": {
        "id": "YL03m1cuhXpx"
      },
      "execution_count": 47,
      "outputs": []
    },
    {
      "cell_type": "code",
      "source": [
        "mahasiswa1.hitung_nilai_akhir()\n",
        "mahasiswa2.hitung_nilai_akhir()\n",
        "\n",
        "mahasiswa1.cetak_info_mahasiswa()\n",
        "mahasiswa2.cetak_info_mahasiswa()\n"
      ],
      "metadata": {
        "colab": {
          "base_uri": "https://localhost:8080/"
        },
        "id": "6VMCPg_dhoaT",
        "outputId": "e6fc974e-fe32-455f-be93-30e7bd3ae383"
      },
      "execution_count": 48,
      "outputs": [
        {
          "output_type": "stream",
          "name": "stdout",
          "text": [
            "Nama: John Doe\n",
            "NIM: 123456\n",
            "Nilai Akhir : 88.0\n",
            "Nama: John Kim\n",
            "NIM: 123457\n",
            "Nilai Akhir : 82.4\n"
          ]
        }
      ]
    },
    {
      "cell_type": "code",
      "source": [],
      "metadata": {
        "id": "OCbhRyKhhdw1"
      },
      "execution_count": null,
      "outputs": []
    },
    {
      "cell_type": "code",
      "source": [],
      "metadata": {
        "id": "rXDTbLXLhdja"
      },
      "execution_count": null,
      "outputs": []
    }
  ]
}